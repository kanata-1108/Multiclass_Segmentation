{
 "cells": [
  {
   "cell_type": "code",
   "execution_count": 5,
   "id": "5361e318",
   "metadata": {},
   "outputs": [],
   "source": [
    "import numpy as np\n",
    "from PIL import Image"
   ]
  },
  {
   "cell_type": "code",
   "execution_count": 6,
   "id": "ee336c71",
   "metadata": {},
   "outputs": [],
   "source": [
    "npy_mask = np.load(\"/home/kotori/src/Multiclass_Segmentation/data_dicom/original_data/mask/CT01464-03/CT01464-03_segmentation_slice_167.npy\")"
   ]
  },
  {
   "cell_type": "code",
   "execution_count": 7,
   "id": "1b8656b4",
   "metadata": {},
   "outputs": [
    {
     "data": {
      "text/plain": [
       "array([0, 1, 2, 3], dtype=uint8)"
      ]
     },
     "execution_count": 7,
     "metadata": {},
     "output_type": "execute_result"
    }
   ],
   "source": [
    "np.unique(npy_mask)"
   ]
  },
  {
   "cell_type": "code",
   "execution_count": 8,
   "id": "641e36b4",
   "metadata": {},
   "outputs": [
    {
     "data": {
      "text/plain": [
       "array([  0, 255], dtype=uint8)"
      ]
     },
     "execution_count": 8,
     "metadata": {},
     "output_type": "execute_result"
    }
   ],
   "source": [
    "png_mask = Image.open(\"/home/kotori/src/Multiclass_Segmentation/data_dicom/original_data/mask/CT01464-03/CT01464-03_segmentation_slice_167.png\")\n",
    "numpy_image = np.array(png_mask)\n",
    "np.unique(numpy_image)"
   ]
  }
 ],
 "metadata": {
  "kernelspec": {
   "display_name": "Python 3",
   "language": "python",
   "name": "python3"
  },
  "language_info": {
   "codemirror_mode": {
    "name": "ipython",
    "version": 3
   },
   "file_extension": ".py",
   "mimetype": "text/x-python",
   "name": "python",
   "nbconvert_exporter": "python",
   "pygments_lexer": "ipython3",
   "version": "3.10.12"
  }
 },
 "nbformat": 4,
 "nbformat_minor": 5
}
